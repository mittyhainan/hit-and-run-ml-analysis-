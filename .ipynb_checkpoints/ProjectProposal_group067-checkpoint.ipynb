{
 "cells": [
  {
   "cell_type": "markdown",
   "metadata": {},
   "source": [
    "# COGS 108 - Final Project Proposal"
   ]
  },
  {
   "cell_type": "markdown",
   "metadata": {},
   "source": [
    "# Names\n",
    "\n",
    "- Kaiyuan Yang\n",
    "- Hainan Xiong\n",
    "- Keshan Chen\n",
    "- Jinzong Que\n"
   ]
  },
  {
   "cell_type": "markdown",
   "metadata": {},
   "source": [
    "# Research Question"
   ]
  },
  {
   "cell_type": "markdown",
   "metadata": {},
   "source": [
    "We want to understand how the sex, age and other factors such as outing time of a person play their roles in determine what kind of traffic offense they commit?"
   ]
  },
  {
   "cell_type": "markdown",
   "metadata": {},
   "source": [
    "## Background and Prior Work"
   ]
  },
  {
   "cell_type": "markdown",
   "metadata": {},
   "source": [
    " The most common reason for contact with the police is being a driver in a traffic stop. There are many factors that play a role in this process: age, gender, race, etc. By our common sense, young adults and males are more likely to commit traffic violations and be pulled over consequently. By reading daily news we understand the police brutality against people of color, especially African American. For example, by the report from Guardian, black people in California are far more likely to be stopped than other racial groups. We find it interesting and reflecting to analyze the underlying factors that might play a role in determining whether people will be stopped by law enforcement.\n",
    "  Reference:https://www.theguardian.com/us-news/2020/jan/02/california-police-black-stops-force"
   ]
  },
  {
   "cell_type": "markdown",
   "metadata": {},
   "source": [
    "# Hypothesis\n"
   ]
  },
  {
   "cell_type": "markdown",
   "metadata": {},
   "source": [
    "Young people (age under 35), espcially males tend to commit more moving violation than their counterparts. \n",
    "In general, people are more likely to be stopped by police at night. And people of colored are more likely to be arrested when stopped by the police. \n",
    "We plan to use features such as race,gender,sex and outing time to predict the stop of cause. "
   ]
  },
  {
   "cell_type": "markdown",
   "metadata": {},
   "source": [
    "# Data"
   ]
  },
  {
   "cell_type": "markdown",
   "metadata": {},
   "source": [
    "*Explain what the ideal dataset you would want to answer this question. (This should include: What variables? How many observations? Who/what/how would these data be collected? How would these data be stored/organized?)*\n",
    "\n",
    "   This raw dataset described information of people who were pulled by the San Diego Police. It contained more than 100k observations and 15 variables. But utimately we only need variables such as stop_cause, subject_sex,subject_age and timestamp. \n",
    "Dataset Name: Stops made by the San Diego Police Department\n",
    "Dataset Link: https://www.kaggle.com/samsonqian/sdpd-data\n",
    "Number of Observations:103051 "
   ]
  },
  {
   "cell_type": "markdown",
   "metadata": {},
   "source": [
    "# Ethics & Privacy"
   ]
  },
  {
   "cell_type": "markdown",
   "metadata": {},
   "source": [
    "Our dataset was downloaded from Kaggle. It was public with License CCO:Public Domain and it therefore allowed us to analyze and make use of this dataset."
   ]
  },
  {
   "cell_type": "markdown",
   "metadata": {},
   "source": [
    "# Team Expectations "
   ]
  },
  {
   "cell_type": "markdown",
   "metadata": {},
   "source": [
    "* Maintain our original work\n",
    "* Finish our duties on time \n",
    "* Follow the project timeline proposal \n",
    "* Respect each other and actively communicate with each other"
   ]
  },
  {
   "cell_type": "markdown",
   "metadata": {},
   "source": [
    "# Project Timeline Proposal"
   ]
  },
  {
   "cell_type": "markdown",
   "metadata": {},
   "source": [
    "| Meeting Date  | Meeting Time| Completed Before Meeting  | Discuss at Meeting |\n",
    "|---|---|---|---|\n",
    "| 1/20  |  1 PM | Read & Think about COGS 108 expectations; brainstorm topics/questions  | Determine best form of communication; Discuss and decide on final project topic; discuss hypothesis; begin background research | \n",
    "| 1/26  |  10 AM |  Do background research on topic | Discuss ideal dataset(s) and ethics; draft project proposal | \n",
    "| 2/1  | 10 AM  | Edit, finalize, and submit proposal; Search for datasets  | Discuss Wrangling and possible analytical approaches; Assign group members to lead each specific part   |\n",
    "| 2/14  | 6 PM  | Import & Wrangle Data (Kaiyuan Yang); EDA (Keshan Chen) | Review/Edit wrangling/EDA; Discuss Analysis Plan   |\n",
    "| 2/23  | 12 PM  | Finalize wrangling/EDA; Begin Analysis (Jinzong Que; Hainan Xiong) | Discuss/edit Analysis; Complete project check-in |\n",
    "| 3/13  | 12 PM  | Complete analysis; Draft results/conclusion/discussion (All group members)| Discuss/edit full project |\n",
    "| 3/19  | Before 11:59 PM  | NA | Turn in Final Project & Group Project Surveys |"
   ]
  },
  {
   "cell_type": "code",
   "execution_count": null,
   "metadata": {},
   "outputs": [],
   "source": []
  }
 ],
 "metadata": {
  "kernelspec": {
   "display_name": "Python 3",
   "language": "python",
   "name": "python3"
  },
  "language_info": {
   "codemirror_mode": {
    "name": "ipython",
    "version": 3
   },
   "file_extension": ".py",
   "mimetype": "text/x-python",
   "name": "python",
   "nbconvert_exporter": "python",
   "pygments_lexer": "ipython3",
   "version": "3.8.5"
  }
 },
 "nbformat": 4,
 "nbformat_minor": 2
}
